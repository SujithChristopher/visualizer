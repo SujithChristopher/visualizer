{
 "cells": [
  {
   "cell_type": "code",
   "execution_count": null,
   "metadata": {},
   "outputs": [],
   "source": [
    "import os \n",
    "import pandas as pd\n",
    "import matplotlib.pyplot as plt\n",
    "os.path.dirname(os.getcwd())\n"
   ]
  },
  {
   "cell_type": "code",
   "execution_count": null,
   "metadata": {},
   "outputs": [],
   "source": [
    "_base_dir = os.path.dirname(os.getcwd())\n",
    "_recording_path = os.path.join(_base_dir,'data_dumps',\"t2_wc\")\n",
    "\n",
    "\n",
    "\n",
    "print(_recording_path)\n"
   ]
  },
  {
   "cell_type": "code",
   "execution_count": null,
   "metadata": {},
   "outputs": [],
   "source": [
    "mobbo_names =['mobbo1.csv','mobbo2.csv','mobbo3.csv','mobbo4.csv','mobbo5.csv','mobbo6.csv']\n",
    "mobbo_names[5]\n",
    "_folder_name = os.path.join(_recording_path,mobbo_names[3])\n",
    "df1 = pd.read_csv( os.path.join(_recording_path,mobbo_names[0]))\n",
    "df2 = pd.read_csv( os.path.join(_recording_path,mobbo_names[1]))\n",
    "df3 = pd.read_csv( os.path.join(_recording_path,mobbo_names[2]))\n",
    "df4 = pd.read_csv( os.path.join(_recording_path,mobbo_names[3]))\n",
    "df5 = pd.read_csv( os.path.join(_recording_path,mobbo_names[4]))\n",
    "df6 = pd.read_csv( os.path.join(_recording_path,mobbo_names[5]))\n"
   ]
  },
  {
   "cell_type": "code",
   "execution_count": null,
   "metadata": {},
   "outputs": [],
   "source": [
    "#plt.plot(df1.sync)\n",
    "plt.plot(df2.sync)\n",
    "plt.plot(df3.sync)\n",
    "plt.plot(df4.sync)\n",
    "plt.plot(df5.sync)\n",
    "plt.plot(df6.sync)\n",
    "\n"
   ]
  },
  {
   "cell_type": "code",
   "execution_count": null,
   "metadata": {},
   "outputs": [],
   "source": [
    "_inx2 = None\n",
    "\n",
    "for i in range(len(df2.sync)):\n",
    "    \n",
    "    \n",
    "    if df2.sync.loc[i] == 1 :\n",
    "        _inx2 = i\n",
    "        \n",
    "        \n",
    "        \n",
    "        break \n"
   ]
  },
  {
   "cell_type": "code",
   "execution_count": null,
   "metadata": {},
   "outputs": [],
   "source": [
    "_inx3 = None\n",
    "\n",
    "for i in range(len(df3.sync)):\n",
    "    \n",
    "    \n",
    "    if df3.sync.loc[i] == 1 :\n",
    "        _inx3 = i\n",
    "        \n",
    "        \n",
    "        \n",
    "        break "
   ]
  },
  {
   "cell_type": "code",
   "execution_count": null,
   "metadata": {},
   "outputs": [],
   "source": [
    "_inx4 = None\n",
    "\n",
    "for i in range(len(df4.sync)):\n",
    "    \n",
    "    \n",
    "    if df4.sync.loc[i] == 1 :\n",
    "        _inx4 = i\n",
    "        \n",
    "        \n",
    "        \n",
    "        break "
   ]
  },
  {
   "cell_type": "code",
   "execution_count": null,
   "metadata": {},
   "outputs": [],
   "source": [
    "_inx5 = None\n",
    "\n",
    "for i in range(len(df5.sync)):\n",
    "    \n",
    "    \n",
    "    if df5.sync.loc[i] == 1 :\n",
    "        _inx5 = i\n",
    "        \n",
    "        \n",
    "        \n",
    "        break "
   ]
  },
  {
   "cell_type": "code",
   "execution_count": null,
   "metadata": {},
   "outputs": [],
   "source": [
    "_inx6 = None\n",
    "\n",
    "for i in range(len(df6.sync)):\n",
    "    \n",
    "    if df6.sync.loc[i] == 1 :\n",
    "        _inx6 = i\n",
    "        \n",
    "        \n",
    "        \n",
    "        break "
   ]
  },
  {
   "cell_type": "code",
   "execution_count": null,
   "metadata": {},
   "outputs": [],
   "source": [
    "df2.loc[_inx2:]"
   ]
  },
  {
   "cell_type": "code",
   "execution_count": null,
   "metadata": {},
   "outputs": [],
   "source": [
    "df3.loc[_inx3:]"
   ]
  },
  {
   "cell_type": "code",
   "execution_count": null,
   "metadata": {},
   "outputs": [],
   "source": [
    "df4.loc[_inx4:]"
   ]
  },
  {
   "cell_type": "code",
   "execution_count": null,
   "metadata": {},
   "outputs": [],
   "source": [
    "df5.loc[_inx5:]"
   ]
  },
  {
   "cell_type": "code",
   "execution_count": null,
   "metadata": {},
   "outputs": [],
   "source": [
    "df6.loc[_inx6:]"
   ]
  },
  {
   "cell_type": "code",
   "execution_count": null,
   "metadata": {},
   "outputs": [],
   "source": []
  }
 ],
 "metadata": {
  "kernelspec": {
   "display_name": "aj",
   "language": "python",
   "name": "python3"
  },
  "language_info": {
   "codemirror_mode": {
    "name": "ipython",
    "version": 3
   },
   "file_extension": ".py",
   "mimetype": "text/x-python",
   "name": "python",
   "nbconvert_exporter": "python",
   "pygments_lexer": "ipython3",
   "version": "3.11.5"
  }
 },
 "nbformat": 4,
 "nbformat_minor": 2
}
