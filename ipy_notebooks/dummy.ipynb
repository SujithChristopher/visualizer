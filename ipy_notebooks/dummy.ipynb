{
 "cells": [
  {
   "cell_type": "code",
   "execution_count": 1,
   "metadata": {},
   "outputs": [],
   "source": [
    "import os\n",
    "import sys\n",
    "import time\n",
    "\n",
    "import cv2\n",
    "import matplotlib.pyplot as plt\n",
    "import numpy as np\n",
    "import pandas as pd\n",
    "from PyQt6 import QtWidgets\n",
    "from PyQt6.QtCore import *\n",
    "from PyQt6.QtGui import *\n",
    "from PyQt6 import QtCore\n",
    "from cv2 import aruco\n",
    "\n",
    "from PyQt6.QtWidgets import * \n",
    "from PyQt6 import QtCore, QtGui"
   ]
  },
  {
   "cell_type": "code",
   "execution_count": 3,
   "metadata": {},
   "outputs": [
    {
     "name": "stdout",
     "output_type": "stream",
     "text": [
      "<PyQt6.QtGui.QImage object at 0x000001F1309B26C0>\n",
      "<PyQt6.QtGui.QImage object at 0x000001F1309B2FF0>\n",
      "<PyQt6.QtGui.QImage object at 0x000001F1309B2F80>\n",
      "<PyQt6.QtGui.QImage object at 0x000001F1309B3060>\n",
      "<PyQt6.QtGui.QImage object at 0x000001F1309B30D0>\n",
      "<PyQt6.QtGui.QImage object at 0x000001F1309B3140>\n",
      "<PyQt6.QtGui.QImage object at 0x000001F1309B31B0>\n",
      "<PyQt6.QtGui.QImage object at 0x000001F1309B25E0>\n",
      "<PyQt6.QtGui.QImage object at 0x000001F1309B26C0>\n",
      "<PyQt6.QtGui.QImage object at 0x000001F1309B2D50>\n",
      "<PyQt6.QtGui.QImage object at 0x000001F1309B2FF0>\n",
      "<PyQt6.QtGui.QImage object at 0x000001F1309B2F80>\n",
      "<PyQt6.QtGui.QImage object at 0x000001F1309B3060>\n",
      "<PyQt6.QtGui.QImage object at 0x000001F1309B30D0>\n",
      "<PyQt6.QtGui.QImage object at 0x000001F1309B31B0>\n",
      "<PyQt6.QtGui.QImage object at 0x000001F1309B25E0>\n",
      "<PyQt6.QtGui.QImage object at 0x000001F1309B3290>\n",
      "<PyQt6.QtGui.QImage object at 0x000001F1309B26C0>\n",
      "<PyQt6.QtGui.QImage object at 0x000001F1309B2D50>\n",
      "<PyQt6.QtGui.QImage object at 0x000001F1309B2FF0>\n",
      "<PyQt6.QtGui.QImage object at 0x000001F1309B3220>\n",
      "<PyQt6.QtGui.QImage object at 0x000001F1309B3060>\n",
      "<PyQt6.QtGui.QImage object at 0x000001F1309B31B0>\n",
      "<PyQt6.QtGui.QImage object at 0x000001F1309B25E0>\n",
      "<PyQt6.QtGui.QImage object at 0x000001F1309B3290>\n",
      "<PyQt6.QtGui.QImage object at 0x000001F1309B26C0>\n",
      "<PyQt6.QtGui.QImage object at 0x000001F1309B2D50>\n",
      "<PyQt6.QtGui.QImage object at 0x000001F1309B2FF0>\n",
      "<PyQt6.QtGui.QImage object at 0x000001F1309B3220>\n",
      "<PyQt6.QtGui.QImage object at 0x000001F1309B30D0>\n",
      "<PyQt6.QtGui.QImage object at 0x000001F1309B3060>\n",
      "<PyQt6.QtGui.QImage object at 0x000001F1309B31B0>\n",
      "<PyQt6.QtGui.QImage object at 0x000001F1309B25E0>\n",
      "<PyQt6.QtGui.QImage object at 0x000001F1309B3290>\n",
      "<PyQt6.QtGui.QImage object at 0x000001F1309B2D50>\n",
      "<PyQt6.QtGui.QImage object at 0x000001F1309B2FF0>\n",
      "<PyQt6.QtGui.QImage object at 0x000001F1309B3140>\n",
      "<PyQt6.QtGui.QImage object at 0x000001F1309B3220>\n",
      "<PyQt6.QtGui.QImage object at 0x000001F1309B30D0>\n",
      "<PyQt6.QtGui.QImage object at 0x000001F1309B3060>\n",
      "<PyQt6.QtGui.QImage object at 0x000001F1309B31B0>\n",
      "<PyQt6.QtGui.QImage object at 0x000001F1309B3290>\n",
      "<PyQt6.QtGui.QImage object at 0x000001F1309B2D50>\n",
      "<PyQt6.QtGui.QImage object at 0x000001F1309B2F80>\n",
      "<PyQt6.QtGui.QImage object at 0x000001F1309B2FF0>\n",
      "<PyQt6.QtGui.QImage object at 0x000001F1309B3140>\n",
      "<PyQt6.QtGui.QImage object at 0x000001F1309B3220>\n",
      "<PyQt6.QtGui.QImage object at 0x000001F1309B30D0>\n",
      "<PyQt6.QtGui.QImage object at 0x000001F1309B31B0>\n",
      "<PyQt6.QtGui.QImage object at 0x000001F1309B3290>\n",
      "<PyQt6.QtGui.QImage object at 0x000001F1309B26C0>\n",
      "<PyQt6.QtGui.QImage object at 0x000001F1309B2D50>\n",
      "<PyQt6.QtGui.QImage object at 0x000001F1309B2F80>\n",
      "<PyQt6.QtGui.QImage object at 0x000001F1309B2FF0>\n",
      "<PyQt6.QtGui.QImage object at 0x000001F1309B3140>\n",
      "<PyQt6.QtGui.QImage object at 0x000001F1309B30D0>\n",
      "<PyQt6.QtGui.QImage object at 0x000001F1309B31B0>\n",
      "<PyQt6.QtGui.QImage object at 0x000001F1309B25E0>\n",
      "<PyQt6.QtGui.QImage object at 0x000001F1309B3290>\n",
      "<PyQt6.QtGui.QImage object at 0x000001F1309B26C0>\n",
      "<PyQt6.QtGui.QImage object at 0x000001F1309B2D50>\n",
      "<PyQt6.QtGui.QImage object at 0x000001F1309B2F80>\n",
      "<PyQt6.QtGui.QImage object at 0x000001F1309B3140>\n",
      "<PyQt6.QtGui.QImage object at 0x000001F1309B30D0>\n",
      "<PyQt6.QtGui.QImage object at 0x000001F1309B3060>\n",
      "<PyQt6.QtGui.QImage object at 0x000001F1309B31B0>\n",
      "<PyQt6.QtGui.QImage object at 0x000001F1309B25E0>\n",
      "<PyQt6.QtGui.QImage object at 0x000001F1309B3290>\n",
      "<PyQt6.QtGui.QImage object at 0x000001F1309B3140>\n",
      "<PyQt6.QtGui.QImage object at 0x000001F1309B2D50>\n",
      "<PyQt6.QtGui.QImage object at 0x000001F1309B3220>\n",
      "<PyQt6.QtGui.QImage object at 0x000001F1309B30D0>\n",
      "<PyQt6.QtGui.QImage object at 0x000001F1309B3060>\n",
      "<PyQt6.QtGui.QImage object at 0x000001F1309B31B0>\n",
      "<PyQt6.QtGui.QImage object at 0x000001F1309B3290>\n",
      "<PyQt6.QtGui.QImage object at 0x000001F1309B3140>\n",
      "<PyQt6.QtGui.QImage object at 0x000001F1309B2F80>\n",
      "<PyQt6.QtGui.QImage object at 0x000001F1309B2D50>\n",
      "<PyQt6.QtGui.QImage object at 0x000001F1309B3220>\n",
      "<PyQt6.QtGui.QImage object at 0x000001F1309B30D0>\n",
      "<PyQt6.QtGui.QImage object at 0x000001F1309B3060>\n",
      "<PyQt6.QtGui.QImage object at 0x000001F1309B31B0>\n",
      "<PyQt6.QtGui.QImage object at 0x000001F1309B3290>\n",
      "<PyQt6.QtGui.QImage object at 0x000001F1309B26C0>\n",
      "<PyQt6.QtGui.QImage object at 0x000001F1309B3140>\n",
      "<PyQt6.QtGui.QImage object at 0x000001F1309B2F80>\n",
      "<PyQt6.QtGui.QImage object at 0x000001F1309B2D50>\n",
      "<PyQt6.QtGui.QImage object at 0x000001F1309B3220>\n",
      "<PyQt6.QtGui.QImage object at 0x000001F1309B3060>\n",
      "<PyQt6.QtGui.QImage object at 0x000001F1309B25E0>\n",
      "<PyQt6.QtGui.QImage object at 0x000001F1309B31B0>\n",
      "<PyQt6.QtGui.QImage object at 0x000001F1309B3290>\n",
      "<PyQt6.QtGui.QImage object at 0x000001F1309B26C0>\n",
      "<PyQt6.QtGui.QImage object at 0x000001F1309B3140>\n",
      "<PyQt6.QtGui.QImage object at 0x000001F1309B2F80>\n",
      "<PyQt6.QtGui.QImage object at 0x000001F1309B3220>\n",
      "<PyQt6.QtGui.QImage object at 0x000001F1309B3060>\n",
      "<PyQt6.QtGui.QImage object at 0x000001F1309B2FF0>\n",
      "<PyQt6.QtGui.QImage object at 0x000001F1309B25E0>\n",
      "<PyQt6.QtGui.QImage object at 0x000001F1309B31B0>\n",
      "<PyQt6.QtGui.QImage object at 0x000001F1309B3290>\n",
      "<PyQt6.QtGui.QImage object at 0x000001F1309B26C0>\n",
      "<PyQt6.QtGui.QImage object at 0x000001F1309B2F80>\n",
      "<PyQt6.QtGui.QImage object at 0x000001F1309B3220>\n",
      "<PyQt6.QtGui.QImage object at 0x000001F1309B30D0>\n",
      "<PyQt6.QtGui.QImage object at 0x000001F1309B3060>\n",
      "<PyQt6.QtGui.QImage object at 0x000001F1309B2FF0>\n",
      "<PyQt6.QtGui.QImage object at 0x000001F1309B25E0>\n",
      "<PyQt6.QtGui.QImage object at 0x000001F1309B31B0>\n",
      "<PyQt6.QtGui.QImage object at 0x000001F1309B26C0>\n",
      "<PyQt6.QtGui.QImage object at 0x000001F1309B2F80>\n",
      "<PyQt6.QtGui.QImage object at 0x000001F1309B2D50>\n",
      "<PyQt6.QtGui.QImage object at 0x000001F1309B3220>\n",
      "<PyQt6.QtGui.QImage object at 0x000001F1309B30D0>\n",
      "<PyQt6.QtGui.QImage object at 0x000001F1309B3060>\n",
      "<PyQt6.QtGui.QImage object at 0x000001F1309B31B0>\n",
      "<PyQt6.QtGui.QImage object at 0x000001F1309B26C0>\n",
      "<PyQt6.QtGui.QImage object at 0x000001F1309B3140>\n",
      "<PyQt6.QtGui.QImage object at 0x000001F1309B2F80>\n",
      "<PyQt6.QtGui.QImage object at 0x000001F1309B2D50>\n",
      "<PyQt6.QtGui.QImage object at 0x000001F1309B3220>\n",
      "<PyQt6.QtGui.QImage object at 0x000001F1309B30D0>\n",
      "<PyQt6.QtGui.QImage object at 0x000001F1309B3060>\n",
      "<PyQt6.QtGui.QImage object at 0x000001F1309B31B0>\n",
      "<PyQt6.QtGui.QImage object at 0x000001F1309B25E0>\n",
      "<PyQt6.QtGui.QImage object at 0x000001F1309B26C0>\n",
      "<PyQt6.QtGui.QImage object at 0x000001F1309B3140>\n",
      "<PyQt6.QtGui.QImage object at 0x000001F1309B2F80>\n"
     ]
    }
   ],
   "source": [
    "import cv2\n",
    "\n",
    "# initialize the video capture object\n",
    "cap = cv2.VideoCapture(0)\n",
    "\n",
    "# loop through frames\n",
    "while True:\n",
    "    # read the frame from the video capture object\n",
    "    ret, frame = cap.read()\n",
    "\n",
    "    # display the frame\n",
    "    \n",
    "    rgbImage = cv2.cvtColor(frame, cv2.COLOR_BGR2RGB)\n",
    "    h, w, ch = rgbImage.shape\n",
    "    bytesPerLine = ch * w\n",
    "    convertToQtFormat = QImage(rgbImage.data.tobytes(), w, h, bytesPerLine, QImage.Format.Format_RGB888)\n",
    "    print(convertToQtFormat)\n",
    "    p = convertToQtFormat.scaled(640, 480, Qt.AspectRatioMode.KeepAspectRatio)\n",
    "    cv2.imshow('frame', frame)\n",
    "\n",
    "\n",
    "    # check for key press\n",
    "    if cv2.waitKey(1) & 0xFF == ord('q'):\n",
    "        break\n",
    "\n",
    "# release the video capture object and close all windows\n",
    "cap.release()\n",
    "cv2.destroyAllWindows()\n"
   ]
  },
  {
   "cell_type": "code",
   "execution_count": 7,
   "metadata": {},
   "outputs": [],
   "source": [
    "def jedi_read(_bytes):\n",
    "    \"\"\"returns bool for valid read, also returns the data read\"\"\"\n",
    "    \n",
    "    if (_bytes[0] == b'\\xff') and (_bytes[1] == b'\\xff'):\n",
    "        chksum = 255 + 255\n",
    "        plSz = _bytes[2]\n",
    "        chksum += plSz\n",
    "        payload = _bytes[3:3+plSz]\n",
    "        chksum += sum(payload)\n",
    "        chksum = bytes([chksum % 256])\n",
    "        _chksum = _bytes[-1]\n",
    "        print(_chksum, chksum)\n",
    "        return _chksum == chksum\n",
    "\n",
    "    return False"
   ]
  },
  {
   "cell_type": "code",
   "execution_count": 8,
   "metadata": {},
   "outputs": [],
   "source": [
    "_bytes = b'\\xff\\xff\\x12\\x02\\xaf*\\x00\\x00\\xddg\\xff\\xff\\x9c\\xd1\\x00\\x00W\\x01\\x0b\\x00B'"
   ]
  },
  {
   "cell_type": "code",
   "execution_count": 9,
   "metadata": {},
   "outputs": [
    {
     "data": {
      "text/plain": [
       "False"
      ]
     },
     "execution_count": 9,
     "metadata": {},
     "output_type": "execute_result"
    }
   ],
   "source": [
    "jedi_read(_bytes)"
   ]
  },
  {
   "cell_type": "code",
   "execution_count": 14,
   "metadata": {},
   "outputs": [
    {
     "data": {
      "text/plain": [
       "(2797314,)"
      ]
     },
     "execution_count": 14,
     "metadata": {},
     "output_type": "execute_result"
    }
   ],
   "source": [
    "import struct\n",
    "struct.unpack('l', _bytes[3:7])"
   ]
  },
  {
   "cell_type": "code",
   "execution_count": 1,
   "metadata": {},
   "outputs": [],
   "source": [
    "_message = b'\\xff\\xff\\x12\\x02\\xa3n\\x00\\x00\\x9fn\\xff\\xffbG\\x02\\x00\\xb5\\xee\\xfe\\xffo'"
   ]
  },
  {
   "cell_type": "code",
   "execution_count": 4,
   "metadata": {},
   "outputs": [],
   "source": [
    "def jedi_read(_bytes):\n",
    "    \"\"\"returns bool for valid read, also returns the data read\"\"\"\n",
    "    if (_bytes[0] == b'\\xff') and (_bytes[1] == b'\\xff'):\n",
    "        chksum = 255 + 255\n",
    "        plSz = _bytes[2]\n",
    "        chksum += plSz\n",
    "        payload = _bytes[3:3+plSz]\n",
    "        chksum += sum(payload)\n",
    "        chksum = bytes([chksum % 256])\n",
    "        _chksum = _bytes[-1]\n",
    "        return _chksum == chksum\n",
    "    return False"
   ]
  },
  {
   "cell_type": "code",
   "execution_count": 5,
   "metadata": {},
   "outputs": [
    {
     "data": {
      "text/plain": [
       "False"
      ]
     },
     "execution_count": 5,
     "metadata": {},
     "output_type": "execute_result"
    }
   ],
   "source": [
    "jedi_read(_message)"
   ]
  },
  {
   "cell_type": "code",
   "execution_count": 6,
   "metadata": {},
   "outputs": [],
   "source": [
    "chksum = 255 + 255\n",
    "_bytes = _message\n",
    "plSz = _bytes[2]\n",
    "chksum += plSz\n",
    "payload = _bytes[3:3+plSz]\n",
    "chksum += sum(payload)\n",
    "chksum = bytes([chksum % 256])\n",
    "_chksum = _bytes[-1]"
   ]
  },
  {
   "cell_type": "code",
   "execution_count": 7,
   "metadata": {},
   "outputs": [
    {
     "data": {
      "text/plain": [
       "(b'\\xe8', 111)"
      ]
     },
     "execution_count": 7,
     "metadata": {},
     "output_type": "execute_result"
    }
   ],
   "source": [
    "chksum, _chksum"
   ]
  },
  {
   "cell_type": "code",
   "execution_count": 2,
   "metadata": {},
   "outputs": [],
   "source": [
    "from numba import njit\n",
    "import numpy as np"
   ]
  },
  {
   "cell_type": "code",
   "execution_count": 5,
   "metadata": {},
   "outputs": [],
   "source": [
    "array = np.random.randint(0, 100, size=(1000000, 3))\n",
    "\n",
    "@njit\n",
    "def func(array):\n",
    "    return np.roll(array, -1)"
   ]
  },
  {
   "cell_type": "code",
   "execution_count": 7,
   "metadata": {},
   "outputs": [],
   "source": [
    "a = func(array)"
   ]
  },
  {
   "cell_type": "code",
   "execution_count": 1,
   "metadata": {},
   "outputs": [],
   "source": [
    "import numpy as np"
   ]
  },
  {
   "cell_type": "code",
   "execution_count": 5,
   "metadata": {},
   "outputs": [
    {
     "ename": "ValueError",
     "evalue": "output parameter for reduction operation logical_or has the wrong number of dimensions: Found 1 but expected 0",
     "output_type": "error",
     "traceback": [
      "\u001b[1;31m---------------------------------------------------------------------------\u001b[0m",
      "\u001b[1;31mValueError\u001b[0m                                Traceback (most recent call last)",
      "\u001b[1;32md:\\CMC\\visualizer\\ipy_notebooks\\dummy.ipynb Cell 16\u001b[0m line \u001b[0;36m3\n\u001b[0;32m      <a href='vscode-notebook-cell:/d%3A/CMC/visualizer/ipy_notebooks/dummy.ipynb#X21sZmlsZQ%3D%3D?line=0'>1</a>\u001b[0m out \u001b[39m=\u001b[39m np\u001b[39m.\u001b[39marray([\u001b[39mFalse\u001b[39;00m])\n\u001b[0;32m      <a href='vscode-notebook-cell:/d%3A/CMC/visualizer/ipy_notebooks/dummy.ipynb#X21sZmlsZQ%3D%3D?line=1'>2</a>\u001b[0m a \u001b[39m=\u001b[39m np\u001b[39m.\u001b[39marray([np\u001b[39m.\u001b[39mnan, \u001b[39m0\u001b[39m, \u001b[39m4\u001b[39m, \u001b[39m5\u001b[39m])\n\u001b[1;32m----> <a href='vscode-notebook-cell:/d%3A/CMC/visualizer/ipy_notebooks/dummy.ipynb#X21sZmlsZQ%3D%3D?line=2'>3</a>\u001b[0m np\u001b[39m.\u001b[39;49many(a, out\u001b[39m=\u001b[39;49mout)\n",
      "File \u001b[1;32mc:\\Users\\Pintu\\miniconda3\\envs\\py115\\Lib\\site-packages\\numpy\\core\\fromnumeric.py:2412\u001b[0m, in \u001b[0;36many\u001b[1;34m(a, axis, out, keepdims, where)\u001b[0m\n\u001b[0;32m   2322\u001b[0m \u001b[39m@array_function_dispatch\u001b[39m(_any_dispatcher)\n\u001b[0;32m   2323\u001b[0m \u001b[39mdef\u001b[39;00m \u001b[39many\u001b[39m(a, axis\u001b[39m=\u001b[39m\u001b[39mNone\u001b[39;00m, out\u001b[39m=\u001b[39m\u001b[39mNone\u001b[39;00m, keepdims\u001b[39m=\u001b[39mnp\u001b[39m.\u001b[39m_NoValue, \u001b[39m*\u001b[39m, where\u001b[39m=\u001b[39mnp\u001b[39m.\u001b[39m_NoValue):\n\u001b[0;32m   2324\u001b[0m \u001b[39m    \u001b[39m\u001b[39m\"\"\"\u001b[39;00m\n\u001b[0;32m   2325\u001b[0m \u001b[39m    Test whether any array element along a given axis evaluates to True.\u001b[39;00m\n\u001b[0;32m   2326\u001b[0m \n\u001b[1;32m   (...)\u001b[0m\n\u001b[0;32m   2410\u001b[0m \n\u001b[0;32m   2411\u001b[0m \u001b[39m    \"\"\"\u001b[39;00m\n\u001b[1;32m-> 2412\u001b[0m     \u001b[39mreturn\u001b[39;00m _wrapreduction(a, np\u001b[39m.\u001b[39;49mlogical_or, \u001b[39m'\u001b[39;49m\u001b[39many\u001b[39;49m\u001b[39m'\u001b[39;49m, axis, \u001b[39mNone\u001b[39;49;00m, out,\n\u001b[0;32m   2413\u001b[0m                           keepdims\u001b[39m=\u001b[39;49mkeepdims, where\u001b[39m=\u001b[39;49mwhere)\n",
      "File \u001b[1;32mc:\\Users\\Pintu\\miniconda3\\envs\\py115\\Lib\\site-packages\\numpy\\core\\fromnumeric.py:88\u001b[0m, in \u001b[0;36m_wrapreduction\u001b[1;34m(obj, ufunc, method, axis, dtype, out, **kwargs)\u001b[0m\n\u001b[0;32m     85\u001b[0m         \u001b[39melse\u001b[39;00m:\n\u001b[0;32m     86\u001b[0m             \u001b[39mreturn\u001b[39;00m reduction(axis\u001b[39m=\u001b[39maxis, out\u001b[39m=\u001b[39mout, \u001b[39m*\u001b[39m\u001b[39m*\u001b[39mpasskwargs)\n\u001b[1;32m---> 88\u001b[0m \u001b[39mreturn\u001b[39;00m ufunc\u001b[39m.\u001b[39;49mreduce(obj, axis, dtype, out, \u001b[39m*\u001b[39;49m\u001b[39m*\u001b[39;49mpasskwargs)\n",
      "\u001b[1;31mValueError\u001b[0m: output parameter for reduction operation logical_or has the wrong number of dimensions: Found 1 but expected 0"
     ]
    }
   ],
   "source": [
    "out = np.array([False])\n",
    "a = np.array([np.nan, 0, 4, 5])\n",
    "np.any(a, out=out)"
   ]
  },
  {
   "cell_type": "markdown",
   "metadata": {},
   "source": []
  },
  {
   "cell_type": "code",
   "execution_count": null,
   "metadata": {},
   "outputs": [],
   "source": []
  },
  {
   "cell_type": "code",
   "execution_count": null,
   "metadata": {},
   "outputs": [],
   "source": []
  }
 ],
 "metadata": {
  "kernelspec": {
   "display_name": "py115",
   "language": "python",
   "name": "python3"
  },
  "language_info": {
   "codemirror_mode": {
    "name": "ipython",
    "version": 3
   },
   "file_extension": ".py",
   "mimetype": "text/x-python",
   "name": "python",
   "nbconvert_exporter": "python",
   "pygments_lexer": "ipython3",
   "version": "3.11.5"
  }
 },
 "nbformat": 4,
 "nbformat_minor": 2
}
