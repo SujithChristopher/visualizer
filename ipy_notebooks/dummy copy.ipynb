{
 "cells": [
  {
   "cell_type": "code",
   "execution_count": 26,
   "metadata": {},
   "outputs": [],
   "source": [
    "import pandas as pd\n",
    "import numpy as np\n",
    "import matplotlib.pyplot as plt\n",
    "import seaborn as sns\n",
    "import os\n",
    "import polars as pl\n",
    "import toml\n",
    "from support import preprocess\n",
    "from scipy.interpolate import interp1d"
   ]
  },
  {
   "cell_type": "code",
   "execution_count": 27,
   "metadata": {},
   "outputs": [],
   "source": [
    "_base_pth = toml.load(\"data_path.toml\")['files']['pth']\n",
    "_folder_name = 'normal_ss_t1'\n",
    "\n",
    "_data_pth = os.path.join(_base_pth, _folder_name)\n",
    "\n",
    "_mobbo_base_names = [\n",
    "    'mobbo1.csv',\n",
    "    'mobbo2.csv',\n",
    "    'mobbo3.csv',\n",
    "    'mobbo4.csv',\n",
    "    'mobbo5.csv',\n",
    "    'mobbo6.csv',\n",
    "                     ]"
   ]
  },
  {
   "cell_type": "code",
   "execution_count": 28,
   "metadata": {},
   "outputs": [],
   "source": [
    "dfs = {'m1':pl.read_csv(os.path.join(_data_pth, _mobbo_base_names[0])),\n",
    "       'm2':pl.read_csv(os.path.join(_data_pth, _mobbo_base_names[1])),\n",
    "       'm3':pl.read_csv(os.path.join(_data_pth, _mobbo_base_names[2])),\n",
    "       'm4':pl.read_csv(os.path.join(_data_pth, _mobbo_base_names[3])),\n",
    "       'm5':pl.read_csv(os.path.join(_data_pth, _mobbo_base_names[4])),\n",
    "       'm6':pl.read_csv(os.path.join(_data_pth, _mobbo_base_names[5]))}"
   ]
  },
  {
   "cell_type": "markdown",
   "metadata": {},
   "source": [
    "## Changing polarity for two boards m5 and m6"
   ]
  },
  {
   "cell_type": "code",
   "execution_count": 29,
   "metadata": {},
   "outputs": [],
   "source": [
    "dfs['m5'] = dfs['m5'].with_columns([(pl.col('f1')*-1).alias('f1'),\n",
    "                                    (pl.col('f2')*-1).alias('f2'),\n",
    "                                    (pl.col('f3')*-1).alias('f3'),\n",
    "                                    (pl.col('f4')*-1).alias('f4'),])\n",
    "\n",
    "dfs['m6'] = dfs['m6'].with_columns([(pl.col('f1')*-1).alias('f1'),\n",
    "                                    (pl.col('f2')*-1).alias('f2'),\n",
    "                                    (pl.col('f3')*-1).alias('f3'),\n",
    "                                    (pl.col('f4')*-1).alias('f4'),])"
   ]
  },
  {
   "cell_type": "markdown",
   "metadata": {},
   "source": [
    "## Pre processing files"
   ]
  },
  {
   "cell_type": "code",
   "execution_count": 30,
   "metadata": {},
   "outputs": [],
   "source": [
    "# trunkate dfs\n",
    "_temp_df = dfs['m1']\n",
    "_start_inx = None\n",
    "_end_inx = None\n",
    "_trailing_trigger = False\n",
    "for i in range(len(_temp_df['sync'])):\n",
    "    if (_temp_df['sync'][i] == 1) and (not _trailing_trigger):\n",
    "        _start_inx = i\n",
    "        _trailing_trigger = True\n",
    "    \n",
    "    if (_temp_df['sync'][i] == 0) and (_trailing_trigger):\n",
    "        _end_inx = i\n",
    "        break\n",
    "    \n",
    "_temp_df = _temp_df[_start_inx:_end_inx]       \n",
    "        "
   ]
  },
  {
   "cell_type": "code",
   "execution_count": 34,
   "metadata": {},
   "outputs": [],
   "source": [
    "def interpolate(ref_df, target_df):\n",
    "    # df is the df to be interpolated\n",
    "    # ref_df is the reference df\n",
    "    # df and ref_df should have the same columns\n",
    "\n",
    "    _reference_time = ref_df['timestamp']\n",
    "\n",
    "    columns = target_df.columns[1:-1]\n",
    "    interpolated_cols = {}\n",
    "    for _col in columns:\n",
    "        interp_func = interp1d(target_df['timestamp'], target_df[_col], kind='linear', axis=0, fill_value='extrapolate')\n",
    "        interpolated_cols[_col] = interp_func(_reference_time)\n",
    "        \n",
    "    df = pl.from_dict(interpolated_cols).insert_column(0, _reference_time)\n",
    "    return df\n",
    "\n",
    "def interpolats_dfs(dfs, ref_no = 0):\n",
    "    # generally first df is the reference df\n",
    "    _keys = list(dfs.keys())\n",
    "    _reference_df = dfs[_keys[ref_no]]\n",
    "    _temp_dfs = dfs.copy()\n",
    "    _temp_dfs.pop(_keys[ref_no])\n",
    "    _selected_keys = _temp_dfs.keys()    \n",
    "    _new_dfs = {}\n",
    "    for _key in _selected_keys:\n",
    "        _new_dfs[_key] = interpolate(_reference_df, dfs[_key]) \n",
    "        \n",
    "    _new_dfs[_keys[ref_no]] = _reference_df\n",
    "    \n",
    "    return _new_dfs"
   ]
  },
  {
   "cell_type": "code",
   "execution_count": 35,
   "metadata": {},
   "outputs": [],
   "source": [
    "dfs = interpolats_dfs(dfs)"
   ]
  },
  {
   "cell_type": "code",
   "execution_count": 37,
   "metadata": {},
   "outputs": [
    {
     "data": {
      "text/plain": [
       "dict_keys(['m2', 'm3', 'm4', 'm5', 'm6', 'm1'])"
      ]
     },
     "execution_count": 37,
     "metadata": {},
     "output_type": "execute_result"
    }
   ],
   "source": [
    "dfs.keys()"
   ]
  },
  {
   "cell_type": "code",
   "execution_count": null,
   "metadata": {},
   "outputs": [],
   "source": []
  }
 ],
 "metadata": {
  "kernelspec": {
   "display_name": "py115",
   "language": "python",
   "name": "python3"
  },
  "language_info": {
   "codemirror_mode": {
    "name": "ipython",
    "version": 3
   },
   "file_extension": ".py",
   "mimetype": "text/x-python",
   "name": "python",
   "nbconvert_exporter": "python",
   "pygments_lexer": "ipython3",
   "version": "3.11.5"
  }
 },
 "nbformat": 4,
 "nbformat_minor": 2
}
